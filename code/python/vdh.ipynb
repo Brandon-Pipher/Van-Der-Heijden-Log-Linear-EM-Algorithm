{
 "cells": [
  {
   "cell_type": "markdown",
   "id": "757feafc",
   "metadata": {},
   "source": [
    "# Heijden 2018\n",
    "\n",
    "**Table 1.) Observed**\n",
    "\n",
    "| A         | X1         | B = 1      | B = 1      | B = 0         |\n",
    "|:---------:|:----------:|:----------:|:----------:|:-------------:|\n",
    "|           |            | **X2 = 0** | **X2 = 1** | **X2 = .**    |\n",
    "| **A = 1** | **X1 = 0** | 259        | 539        | 13,898        |\n",
    "| **A = 1** | **X1 = 1** | 110        | 177        | 12,356        |\n",
    "| **A = 0** | **X1 = .** | 91         | 164        | –             |\n",
    "\n",
    "**Table 2.) Fitted values under [AX2][X1X2][BX1]**\n",
    "\n",
    "| A         | X1         | B = 1      | B = 1      | B = 0         | B = 0         |\n",
    "|:---------:|:----------:|:----------:|:----------:|:-------------:|:-------------:|\n",
    "|           |            | **X2 = 0** | **X2 = 1** | **X2 = 0**    | **X2 = 1**    |\n",
    "| **A = 1** | **X1 = 0** | 259        | 539        | 4,510.8       | 9,387.2       |\n",
    "| **A = 1** | **X1 = 1** | 110        | 177        | 4,735.8       | 7,620.3       |\n",
    "| **A = 0** | **X1 = 0** | 63.9       | 123.5      | 1,112.4       | 2,150.2       |\n",
    "| **A = 0** | **X1 = 1** | 27.1       | 40.5       | 1,167.9       | 1,745.4       |\n",
    "\n",
    "\n",
    "**Table 3.) Observed Cell Labels**\n",
    "\n",
    "| A         | X1         | B = 1       | B = 1     | B = 0         |\n",
    "|:---------:|:----------:|:----------:|:----------:|:-------------:|\n",
    "|           |            | **X2 = 0** | **X2 = 1** | **X2 = .**    |\n",
    "| **A = 1** | **X1 = 0** | $x_{11}$   | $x_{12}$   | $x_{13}$      |\n",
    "| **A = 1** | **X1 = 1** | $x_{21}$   | $x_{22}$   | $x_{14}$      |\n",
    "| **A = 0** | **X1 = .** | $x_{31}$   | $x_{32}$   | $–$           |\n",
    "\n",
    "\n",
    "**Table 4.) Closed-form solution**\n",
    "\n",
    "| A         | X1         | B = 1                                           | B = 1                                           | B = 0                                                                                                              | B = 0                                                                                                              |\n",
    "|:---------:|:----------:|:-----------------------------------------------:|:-----------------------------------------------:|:------------------------------------------------------------------------------------------------------------------:|:------------------------------------------------------------------------------------------------------------------:|\n",
    "|           |            | **X2 = 0**                                      | **X2 = 1**                                      | **X2 = 0**                                                                                                         | **X2 = 1**                                                                                                         |\n",
    "| **A = 1** | **X1 = 0** | $x_{11}$                                        | $x_{12}$                                        | $\\frac{x_{13} \\cdot x_{11}}{(x_{11}+x_{12})}$                                                                      | $\\frac{x_{13} \\cdot x_{12}}{(x_{11}+x_{12})}$                                                                      |\n",
    "| **A = 1** | **X1 = 1** | $x_{21}$                                        | $x_{22}$                                        | $\\frac{x_{14} \\cdot x_{21}}{(x_{21}+x_{22})}$                                                                      | $\\frac{x_{14} \\cdot x_{22}}{(x_{21}+x_{22})}$                                                                      |\n",
    "| **A = 0** | **X1 = 0** | $\\frac{x_{31} \\cdot x_{11}}{(x_{11} + x_{21})}$ | $\\frac{x_{32} \\cdot x_{12}}{(x_{12} + x_{22})}$ | $\\frac{ \\frac{x_{13} \\cdot x_{11}}{(x_{11}+x_{12})} \\cdot \\frac{x_{31} \\cdot x_{11}}{(x_{11} + x_{21})} }{x_{11}}$ | $\\frac{ \\frac{x_{13} \\cdot x_{12}}{(x_{11}+x_{12})} \\cdot \\frac{x_{32} \\cdot x_{12}}{(x_{12} + x_{22})} }{x_{12}}$ |\n",
    "| **A = 0** | **X1 = 1** | $\\frac{x_{31} \\cdot x_{21}}{(x_{11} + x_{21})}$ | $\\frac{x_{32} \\cdot x_{22}}{(x_{12} + x_{22})}$ | $\\frac{ \\frac{x_{14} \\cdot x_{21}}{(x_{21}+x_{22})} \\cdot \\frac{x_{31} \\cdot x_{21}}{(x_{11} + x_{21})} }{x_{21}}$ | $\\frac{ \\frac{x_{14} \\cdot x_{22}}{(x_{21}+x_{22})} \\cdot \\frac{x_{32} \\cdot x_{22}}{(x_{12} + x_{22})} }{x_{22}}$ |\n",
    "\n",
    "\n",
    "The closed-form solution in Table 4.) is derived by a Missing-At-Random assumption for the cells where (A = 1, B = 0) and (A = 0, B = 1).  The cells where (A = 0, B = 0) are derived using a Petersen dual-system estimator on these distributed cells."
   ]
  },
  {
   "cell_type": "markdown",
   "id": "11e9f5ed",
   "metadata": {},
   "source": [
    "# Heijden 2021\n",
    "\n",
    "**Table 1.) Observed**\n",
    "\n",
    "| A         | a           | C = 1       | C = 1     | C = 1      | C = 0     |            |\n",
    "|:---------:|:-----------:|:-----------:|:---------:|:----------:|:---------:|:----------:|\n",
    "|           |             | **c = 0**   | **c = 1** | **c = --** | **c = x** | **Totals** |\n",
    "| **A = 1** | **a = 0**   | 3,004,335   | 31,995    | 150,840    | 38,634    | 3,225,804  |\n",
    "| **A = 1** | **a = 1**   | 108,189     | 435,465   | 12,405     | 4,368     | 560,427    |\n",
    "| **A = 1** | **a = --**  | 16,512      | 2,769     | 900        | 438       | 20,619     |\n",
    "| **A = 0** | **a = x**   | 398,838     | 146,976   | 24,636     | –         | 570,450    |\n",
    "|           | **Totals**  | 3,527,874   | 617,205   | 188,781    | 43,440    | 4,377,300  |\n",
    "\n",
    "**Table 2.) Fitted values under [Ac][ac][Ca]**\n",
    "\n",
    "| A         | a           | C = 1       | C = 1     | C = 1      | C = 0     |            |\n",
    "|:---------:|:-----------:|:-----------:|:---------:|:----------:|:---------:|:----------:|\n",
    "|           |             | **c = 0**   | **c = 1** | **c = --** | **c = x** | **Totals** |\n",
    "| **A = 1** | **a = 0**   | 3,170,294.8 | 33,787.9  | 38,616.0   | 411.6     | 3,243,110.3|\n",
    "| **A = 1** | **a = 1**   | 111,242.5   | 448,084.8 | 877.6      | 3,534.9   | 563,739.8  |\n",
    "| **A = 0** | **a = 0**   | 402,709.4   | 10,770.8  | 4,905.2    | 131.2     | 418,516.6  |\n",
    "| **A = 0** | **a = 1**   | 14,130.7    | 142,839.1 | 111.5      | 1,126.8   | 158,208.1  |\n",
    "|           | **Totals**  | 3,698,377.4 | 635,482.6 | 44,510.3   | 5,204.5   | 4,383,574.8|\n",
    "\n",
    "\n",
    "\n",
    "Unlike in *Heijden 2018* the closed-form solution is either non-trival or does not exist. Attempting a similar derivation as in Heijden 2018 but with the cell of size 900 split amongst the four necessary cells results in a different solution that what is obtained by the EM algorithm. Comparing the EM Algorithms solution and this rudimentary solution the ratios appear to be different, indicating some additional level of interaction is being utilized than simply distributing the marginals according to the observed cell counts."
   ]
  },
  {
   "cell_type": "markdown",
   "id": "493ff418",
   "metadata": {},
   "source": []
  }
 ],
 "metadata": {
  "kernelspec": {
   "display_name": "Dev",
   "language": "python",
   "name": "python3"
  },
  "language_info": {
   "codemirror_mode": {
    "name": "ipython",
    "version": 3
   },
   "file_extension": ".py",
   "mimetype": "text/x-python",
   "name": "python",
   "nbconvert_exporter": "python",
   "pygments_lexer": "ipython3",
   "version": "3.13.5"
  }
 },
 "nbformat": 4,
 "nbformat_minor": 5
}
